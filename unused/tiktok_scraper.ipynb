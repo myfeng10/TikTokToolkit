{
 "cells": [
  {
   "cell_type": "code",
   "execution_count": null,
   "metadata": {},
   "outputs": [],
   "source": []
  },
  {
   "cell_type": "code",
   "execution_count": 4,
   "metadata": {},
   "outputs": [],
   "source": [
    "# mp4_link=\"https://v16-webapp-prime.us.tiktok.com/video/tos/useast2a/tos-useast2a-ve-0068-euttp/o4A4GEwLeEeQKraEXA5fEFq8nD67K1Iks56eUg/?a=1988&amp;bti=ODszNWYuMDE6&amp;ch=0&amp;cr=3&amp;dr=0&amp;lr=unwatermarked&amp;cd=0%7C0%7C0%7C&amp;br=7076&amp;bt=3538&amp;cs=0&amp;ds=6&amp;ft=4KJMyMzm8Zmo0qEGF-4jVKG.dpWrKsd.&amp;mime_type=video_mp4&amp;qs=0&amp;rc=OTozOzM6OzM5ODc7aWY4M0BpM2Z1bGw5cnl0cTMzZjgzM0BiNGAyMTVgNWAxX2ItYzY0YSMtaWcvMmRraXBgLS1kL2Nzcw%3D%3D&amp;btag=e00088000&amp;expire=1711768792&amp;l=2024032921192630B7DD3CB9A80A05CD2D&amp;ply_type=2&amp;policy=2&amp;signature=6f26d89393116c6f816253e1d3b90009&amp;tk=tt_chain_token\""
   ]
  },
  {
   "cell_type": "code",
   "execution_count": 77,
   "metadata": {},
   "outputs": [],
   "source": [
    "# https://snaptik.app/\n",
    "# https://ssstik.tv/"
   ]
  },
  {
   "cell_type": "code",
   "execution_count": 102,
   "metadata": {},
   "outputs": [
    {
     "name": "stdout",
     "output_type": "stream",
     "text": [
      "Download complete.\n"
     ]
    }
   ],
   "source": [
    "# import requests\n",
    "\n",
    "# # Correct the ampersand encoding in the URL\n",
    "# # mp4_link=\"https://www.tiktok.com/@snowravenofficial/video/7189269546526887214?is_from_webapp=1&sender_device=pc\"\n",
    "# mp4_link = \"https://v16-webapp-prime.us.tiktok.com/video/tos/useast5/tos-useast5-ve-0068c004-tx/566730b372544ea98daeb8f010df4315/?a=1988&bti=ODszNWYuMDE6&ch=0&cr=3&dr=0&lr=tiktok_m&cd=0%7C0%7C1%7C&cv=1&br=6210&bt=3105&cs=0&ds=3&ft=4KJMyMzm8Zmo02xGF-4jVrXZdpWrKsd.&mime_type=video_mp4&qs=0&rc=ODZoNGc1aTZkOTxkODw5ZUBpM3BwbWc6ZmlwaTMzZzczNEAtMjVhYjViNTAxMDY1Mi0yYSM0a2JzcjQwYy9gLS1kMS9zcw%3D%3D&btag=e00088000&expire=1711771602&l=20240329220609EC0345DFD0BCF707AF5E&ply_type=2&policy=2&signature=0f573040038bb3c7ccfd5ae012c55ca7&tk=tt_chain_token\"\n",
    "# # Send a GET request\n",
    "# response = requests.get(mp4_link)\n",
    "\n",
    "# # Open a binary file in write mode\n",
    "# with open(\"downloaded_video.mp4\", \"wb\") as file:\n",
    "#     file.write(response.content)\n",
    "\n",
    "# print(\"Download complete.\")\n"
   ]
  },
  {
   "cell_type": "code",
   "execution_count": 79,
   "metadata": {},
   "outputs": [],
   "source": [
    "#from bs4 import BeautifulSoup\n",
    "#import requests\n",
    "from selenium import webdriver\n",
    "from selenium.webdriver.support.select import Select\n",
    "from selenium.common.exceptions import NoSuchElementException, UnexpectedAlertPresentException, TimeoutException, WebDriverException\n",
    "from selenium.webdriver.common.by import By\n",
    "\n",
    "\n",
    "import numpy as np\n",
    "import time\n",
    "import decimal\n",
    "import re\n",
    "import datetime\n",
    "\n",
    "from pathlib import Path"
   ]
  },
  {
   "cell_type": "code",
   "execution_count": 184,
   "metadata": {},
   "outputs": [
    {
     "name": "stderr",
     "output_type": "stream",
     "text": [
      "The geckodriver version (0.31.0) detected in PATH at C:\\Windows\\geckodriver.exe might not be compatible with the detected firefox version (124.0.1.8846); currently, geckodriver 0.34.0 is recommended for firefox 124.*, so it is advised to delete the driver in PATH and retry\n"
     ]
    }
   ],
   "source": [
    "driver = webdriver.Firefox()"
   ]
  },
  {
   "cell_type": "code",
   "execution_count": 179,
   "metadata": {},
   "outputs": [],
   "source": [
    "# URL_VIDEO_DOWNLOAD_WEB = \"https://snaptik.app/\"\n",
    "URL_APIPY_ACTOR = \"https://console.apify.com/actors/OtzYfK1ndEGdwWFKQ/runs/Ou6ggwrugBsOgH3dw#output\"\n",
    "URL_VIDEO_DOWNLOAD_WEB = \"https://ssstik.tv/\"\n"
   ]
  },
  {
   "cell_type": "code",
   "execution_count": 180,
   "metadata": {},
   "outputs": [],
   "source": [
    "DATASET_PATH = \"DATASET\"\n"
   ]
  },
  {
   "cell_type": "code",
   "execution_count": 181,
   "metadata": {},
   "outputs": [],
   "source": [
    "def download_tiktok_video(tiktok_video_link):\n",
    "    driver.get(URL_VIDEO_DOWNLOAD_WEB)\n",
    "    time.sleep(1)\n",
    "\n",
    "    links_input_search_box = driver.find_element(By.XPATH, \"/html/body/div[3]/form/input[1]\")\n",
    "    search_box_send_button = driver.find_element(By.XPATH, \"/html/body/div[3]/form/input[3]\")\n",
    "\n",
    "    links_input_search_box.send_keys(tiktok_video_link)\n",
    "    search_box_send_button.click()\n",
    "    time.sleep(5)\n",
    "\n",
    "    download_button = driver.find_element(By.XPATH, \"/html/body/div[3]/a[1]/input\")\n",
    "    download_button.click()\n",
    "    time.sleep(1)\n",
    "\n",
    "    return"
   ]
  },
  {
   "cell_type": "code",
   "execution_count": 182,
   "metadata": {},
   "outputs": [],
   "source": [
    "# mp4_web_link=\"https://www.tiktok.com/@planetmatters/video/7079374480363048198\"\n",
    "# for i in range(3):\n",
    "#     download_tiktok_video(mp4_web_link)\n",
    "#     time.sleep(1)"
   ]
  },
  {
   "cell_type": "code",
   "execution_count": 189,
   "metadata": {},
   "outputs": [],
   "source": [
    "driver.get(URL_APIPY_ACTOR)\n",
    "time.sleep(1)\n"
   ]
  },
  {
   "cell_type": "code",
   "execution_count": 193,
   "metadata": {},
   "outputs": [
    {
     "name": "stdout",
     "output_type": "stream",
     "text": [
      "['https://www.tiktok.com/@planetmatters/video/7079374480363048198', 'https://www.tiktok.com/@snowravenofficial/video/7189269546526887214', 'https://www.tiktok.com/@simonbrodkin/video/7122503534871989509', 'https://www.tiktok.com/@wlterkfkdefjdjd/video/7086370216631913754', 'https://www.tiktok.com/@planetmatters/video/7091386757178002694', 'https://www.tiktok.com/@shmm9y/video/7086378987026386203', 'https://www.tiktok.com/@saveourwildlife1/video/7175566079647829254', 'https://www.tiktok.com/@ajplus/video/7127279410591567150', 'https://www.tiktok.com/@domodraperr/video/7348560194798144814', 'https://www.tiktok.com/@save.tthe.earth/video/7210326522731760902', 'https://www.tiktok.com/@taophilosophy/video/7090218519903702278', 'https://www.tiktok.com/@idnonrkkw/video/6911725863000198401', 'https://www.tiktok.com/@sariaalto/video/6772872803977891078', 'https://www.tiktok.com/@save.ourworld_/video/7115496969883176198', 'https://www.tiktok.com/@changetheirminds/video/7235338252041964827', 'https://www.tiktok.com/@coreyyuhhh/video/7333105269502676254', 'https://www.tiktok.com/@valkiar/video/7288531043681062149', 'https://www.tiktok.com/@kateeeausten/video/7086464108698111237', 'https://www.tiktok.com/@lpesociety/video/6841266912031280390', 'https://www.tiktok.com/@save.ourworld_/video/7162998912603737350', 'https://www.tiktok.com/@shrek.gif/video/6994444904512392453', 'https://www.tiktok.com/@talktv/video/7249345315575270682', 'https://www.tiktok.com/@greyssuniverse/video/7316212726294908203', 'https://www.tiktok.com/@.worldclimate/video/6983827776755272965', 'https://www.tiktok.com/@ladbibleireland/video/7281640195907292448', 'https://www.tiktok.com/@logan.roams/video/6886449133448629510', 'https://www.tiktok.com/@tobiasjaeck/video/7104514452074007813', 'https://www.tiktok.com/@tarabellerose/video/6993574757450927362', 'https://www.tiktok.com/@brklynhealth/video/7009052027045022982', 'https://www.tiktok.com/@astro_nebulae/video/7290121369369464069', 'https://www.tiktok.com/@officialjadenwilliams/video/7231629402038127915', 'https://www.tiktok.com/@ahumqra/video/7205864803376631086', 'https://www.tiktok.com/@heal.the.worldd/video/7090264334495960326', 'https://www.tiktok.com/@save_our_earth879/video/7060873559362604335', 'https://www.tiktok.com/@penny_laines/video/6987019242956737798', 'https://www.tiktok.com/@wea_mi/video/7086394036721880347', 'https://www.tiktok.com/@jakericcacomedy/video/6802181792771214597', 'https://www.tiktok.com/@kaydhubbz/video/7196884930431880491', 'https://www.tiktok.com/@curiosite_infinie/video/7331298908380990753', 'https://www.tiktok.com/@save.tthe.earth/video/7149815907231993093', 'https://www.tiktok.com/@yahoonews/video/7177765578537651502', 'https://www.tiktok.com/@.voyaged/video/7184847113556069633', 'https://www.tiktok.com/@save.tthe.earth/video/7112318145309838597', 'https://www.tiktok.com/@thedailyshow/video/7002318744189979910', 'https://www.tiktok.com/@strqnger_cc/video/7210519167861099781', 'https://www.tiktok.com/@glblwrmng/video/7203457450186509574', 'https://www.tiktok.com/@hashem.alghaili/video/6894553957725703425', 'https://www.tiktok.com/@nandinigotbored/video/7118777372979121413', 'https://www.tiktok.com/@mr_prem_46/video/6833643148724555010', 'https://www.tiktok.com/@averagehistoryy/video/7088611506413210923']\n"
     ]
    }
   ],
   "source": [
    "links_tiktok_web_videos = driver.find_elements(By.CLASS_NAME, \"safeLinkWithEllipsis\")\n",
    "hrefs_tiktok_web_videos = [link.get_attribute(\"href\") for link in links_tiktok_web_videos]\n",
    "print(hrefs_tiktok_web_videos)"
   ]
  },
  {
   "cell_type": "code",
   "execution_count": 194,
   "metadata": {},
   "outputs": [
    {
     "name": "stdout",
     "output_type": "stream",
     "text": [
      "https://www.tiktok.com/@planetmatters/video/7079374480363048198\n",
      "https://www.tiktok.com/@snowravenofficial/video/7189269546526887214\n",
      "https://www.tiktok.com/@simonbrodkin/video/7122503534871989509\n",
      "https://www.tiktok.com/@wlterkfkdefjdjd/video/7086370216631913754\n",
      "https://www.tiktok.com/@planetmatters/video/7091386757178002694\n",
      "https://www.tiktok.com/@shmm9y/video/7086378987026386203\n",
      "https://www.tiktok.com/@saveourwildlife1/video/7175566079647829254\n"
     ]
    }
   ],
   "source": [
    "for href in hrefs_tiktok_web_videos:\n",
    "    mp4_web_link = href\n",
    "    print(mp4_web_link)\n",
    "    download_tiktok_video(mp4_web_link)\n",
    "    time.sleep(1)"
   ]
  }
 ],
 "metadata": {
  "kernelspec": {
   "display_name": "py311-openai-v1",
   "language": "python",
   "name": "python3"
  },
  "language_info": {
   "codemirror_mode": {
    "name": "ipython",
    "version": 3
   },
   "file_extension": ".py",
   "mimetype": "text/x-python",
   "name": "python",
   "nbconvert_exporter": "python",
   "pygments_lexer": "ipython3",
   "version": "3.11.5"
  }
 },
 "nbformat": 4,
 "nbformat_minor": 2
}
