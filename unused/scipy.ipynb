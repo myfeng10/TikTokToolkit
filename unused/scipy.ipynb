{
 "cells": [
  {
   "cell_type": "code",
   "execution_count": 3,
   "metadata": {},
   "outputs": [],
   "source": [
    "from scipy.stats import entropy"
   ]
  },
  {
   "cell_type": "code",
   "execution_count": 12,
   "metadata": {},
   "outputs": [
    {
     "name": "stdout",
     "output_type": "stream",
     "text": [
      "Entropy (base 2): 1.5\n"
     ]
    }
   ],
   "source": [
    "h_x = [1/4,1/4,1/2]\n",
    "h_x = [0.25,0.25,0.5]\n",
    "# Calculate entropy with base 2 (bits)\n",
    "entropy_bits = entropy(h_x, base=2)\n",
    "\n",
    "print(f\"Entropy (base 2): {entropy_bits}\")"
   ]
  }
 ],
 "metadata": {
  "kernelspec": {
   "display_name": "base",
   "language": "python",
   "name": "python3"
  },
  "language_info": {
   "codemirror_mode": {
    "name": "ipython",
    "version": 3
   },
   "file_extension": ".py",
   "mimetype": "text/x-python",
   "name": "python",
   "nbconvert_exporter": "python",
   "pygments_lexer": "ipython3",
   "version": "3.9.12"
  }
 },
 "nbformat": 4,
 "nbformat_minor": 2
}
